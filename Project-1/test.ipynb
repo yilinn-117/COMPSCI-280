{
 "cells": [
  {
   "cell_type": "code",
   "execution_count": 4,
   "metadata": {},
   "outputs": [],
   "source": [
    "# CS180 (CS280A): Project 1 starter Python code\n",
    "\n",
    "# these are just some suggested libraries\n",
    "# instead of scikit-image you could use matplotlib and opencv to read, write, and display images\n",
    "\n",
    "import numpy as np\n",
    "import skimage as sk\n",
    "import skimage.io as skio\n",
    "\n",
    "# name of the input file\n",
    "imname = 'cathedral.jpg'\n",
    "\n",
    "# read in the image\n",
    "im = skio.imread(imname)\n",
    "\n",
    "# convert to double (might want to do this later on to save memory)    \n",
    "im = sk.img_as_float(im)\n",
    "    "
   ]
  },
  {
   "cell_type": "code",
   "execution_count": 6,
   "metadata": {},
   "outputs": [
    {
     "data": {
      "text/plain": [
       "numpy.ndarray"
      ]
     },
     "execution_count": 6,
     "metadata": {},
     "output_type": "execute_result"
    }
   ],
   "source": [
    "\n"
   ]
  },
  {
   "cell_type": "code",
   "execution_count": null,
   "metadata": {},
   "outputs": [],
   "source": [
    "# compute the height of each part (just 1/3 of total)\n",
    "height = np.floor(im.shape[0] / 3.0).astype(int)\n",
    "\n",
    "# separate color channels\n",
    "b = im[:height]\n",
    "g = im[height: 2*height]\n",
    "r = im[2*height: 3*height]\n",
    "\n",
    "# align the images\n",
    "# functions that might be useful for aligning the images include:\n",
    "# np.roll, np.sum, sk.transform.rescale (for multiscale)\n",
    "\n",
    "### ag = align(g, b)\n",
    "### ar = align(r, b)\n",
    "# create a color image\n",
    "im_out = np.dstack([ar, ag, b])\n",
    "\n",
    "# save the image\n",
    "fname = '/out_path/out_fname.jpg'\n",
    "skio.imsave(fname, im_out)\n",
    "\n",
    "# display the image\n",
    "skio.imshow(im_out)\n",
    "skio.show()"
   ]
  },
  {
   "cell_type": "code",
   "execution_count": null,
   "metadata": {},
   "outputs": [],
   "source": [
    "# separate color channels\n",
    "b = im[:height]\n",
    "g = im[height: 2*height]\n",
    "r = im[2*height: 3*height]\n",
    "\n",
    "# align the images\n",
    "# functions that might be useful for aligning the images include:\n",
    "# np.roll, np.sum, sk.transform.rescale (for multiscale)\n",
    "\n",
    "### ag = align(g, b)\n",
    "### ar = align(r, b)\n",
    "# create a color image\n",
    "im_out = np.dstack([ar, ag, b])\n",
    "\n",
    "# save the image\n",
    "fname = '/out_path/out_fname.jpg'\n",
    "skio.imsave(fname, im_out)\n",
    "\n",
    "# display the image\n",
    "skio.imshow(im_out)\n",
    "skio.show()"
   ]
  }
 ],
 "metadata": {
  "kernelspec": {
   "display_name": "base",
   "language": "python",
   "name": "python3"
  },
  "language_info": {
   "codemirror_mode": {
    "name": "ipython",
    "version": 3
   },
   "file_extension": ".py",
   "mimetype": "text/x-python",
   "name": "python",
   "nbconvert_exporter": "python",
   "pygments_lexer": "ipython3",
   "version": "3.11.4"
  }
 },
 "nbformat": 4,
 "nbformat_minor": 2
}
